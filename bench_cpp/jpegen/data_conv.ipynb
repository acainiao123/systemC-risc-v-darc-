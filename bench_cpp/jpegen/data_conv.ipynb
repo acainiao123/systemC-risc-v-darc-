{
 "cells": [
  {
   "cell_type": "code",
   "execution_count": 1,
   "metadata": {},
   "outputs": [],
   "source": [
    "import glob\n",
    "import re"
   ]
  },
  {
   "cell_type": "code",
   "execution_count": 2,
   "metadata": {},
   "outputs": [
    {
     "data": {
      "text/plain": [
       "['.\\\\ACcode.dat',\n",
       " '.\\\\AClen.dat',\n",
       " '.\\\\data_conv.ipynb',\n",
       " '.\\\\dct.cpp',\n",
       " '.\\\\dctassemb.S',\n",
       " '.\\\\dct_coef.txt',\n",
       " '.\\\\dct_coefficient.dat',\n",
       " '.\\\\dct_input.txt',\n",
       " '.\\\\dct_output.txt',\n",
       " '.\\\\fft_input.txt',\n",
       " '.\\\\gold_ACcode.dat',\n",
       " '.\\\\gold_data_in.clv',\n",
       " '.\\\\gold_version',\n",
       " '.\\\\jpeg_assemb.S',\n",
       " '.\\\\Makefile',\n",
       " '.\\\\output.txt',\n",
       " '.\\\\quantization_matrix.dat',\n",
       " '.\\\\rle_len.txt',\n",
       " '.\\\\rle_output.txt',\n",
       " '.\\\\sc_version',\n",
       " '.\\\\test.exe']"
      ]
     },
     "execution_count": 2,
     "metadata": {},
     "output_type": "execute_result"
    }
   ],
   "source": [
    "filenames = glob.glob('./*')\n",
    "filenames"
   ]
  },
  {
   "cell_type": "code",
   "execution_count": 17,
   "metadata": {},
   "outputs": [],
   "source": [
    "with open('dct_coefficient.dat','r') as f:\n",
    "    contents = f.readlines()\n",
    "\n",
    "with open('dct_coef.txt','w') as f:\n",
    "    for line in contents:\n",
    "        line = line.strip().split(',')\n",
    "        for l in line:\n",
    "            if(len(l)==0):\n",
    "                continue\n",
    "            l = int(float(l.strip())*100)\n",
    "            f.write(f'{l},\\n')"
   ]
  },
  {
   "cell_type": "code",
   "execution_count": 20,
   "metadata": {},
   "outputs": [],
   "source": [
    "with open('dct_input.txt','r') as f:\n",
    "    contents = f.readlines()\n",
    "for i in range(len(contents)):\n",
    "    if(',' not in contents[i]):\n",
    "        contents[i] = contents[i].strip()+',\\n'\n",
    "with open('dct_input.txt','w') as f:\n",
    "    f.writelines(contents)"
   ]
  },
  {
   "cell_type": "code",
   "execution_count": 10,
   "metadata": {},
   "outputs": [],
   "source": [
    "with open('.\\\\fft_input.txt','r') as f:\n",
    "    contents = f.readlines()\n",
    "with open('new_fft_input.txt','w') as f:\n",
    "    for l in contents:\n",
    "        l = l.strip().replace(',','').split()\n",
    "        for subl in l:\n",
    "            f.write(subl+',\\n')"
   ]
  },
  {
   "cell_type": "code",
   "execution_count": null,
   "metadata": {},
   "outputs": [],
   "source": [
    "# tbgen -EE  -input=random -b10 -finish -max_cycle=200 -scr=vcs -dump=VCD -64bit fft_E.IFF\n",
    "# tbgen -EE  -input=random -b10 -compare=transaction -finish -max_cycle=200 -scr=vcs -dump=VCD -64bit fft_E.IFF"
   ]
  },
  {
   "cell_type": "code",
   "execution_count": null,
   "metadata": {},
   "outputs": [],
   "source": [
    "# vcs +v2k -full64 fft_E_tb.v fft_E.v\n",
    "# ./simv | tee simv.log"
   ]
  }
 ],
 "metadata": {
  "interpreter": {
   "hash": "b3ba2566441a7c06988d0923437866b63cedc61552a5af99d1f4fb67d367b25f"
  },
  "kernelspec": {
   "display_name": "Python 3.8.3 ('base')",
   "language": "python",
   "name": "python3"
  },
  "language_info": {
   "codemirror_mode": {
    "name": "ipython",
    "version": 3
   },
   "file_extension": ".py",
   "mimetype": "text/x-python",
   "name": "python",
   "nbconvert_exporter": "python",
   "pygments_lexer": "ipython3",
   "version": "3.8.8"
  },
  "orig_nbformat": 4
 },
 "nbformat": 4,
 "nbformat_minor": 2
}
